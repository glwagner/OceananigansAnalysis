{
 "cells": [
  {
   "cell_type": "code",
   "execution_count": 1,
   "metadata": {},
   "outputs": [
    {
     "name": "stderr",
     "output_type": "stream",
     "text": [
      "┌ Info: Recompiling stale cache file /Users/gregorywagner/.julia/compiled/v1.1/OceananigansAnalysis/lRkHr.ji for OceananigansAnalysis [48a51284-6256-11e9-2134-43d8d96d7f17]\n",
      "└ @ Base loading.jl:1184\n",
      "WARNING: Method definition recurse(Cassette.Context{N, M, T, P, B, H} where H<:Union{Cassette.DisableHooks, Nothing} where B<:Union{Nothing, Base.IdDict{Module, Base.Dict{Symbol, Cassette.BindingMeta}}} where P<:Cassette.AbstractPass where T<:Union{Nothing, Cassette.Tag{N, X, E} where E where X where N<:Cassette.AbstractContextName} where M where N<:Cassette.AbstractContextName, Any...) in module Cassette at /Users/gregorywagner/.julia/packages/Cassette/xggAf/src/overdub.jl:521 overwritten in module GPUifyLoops at /Users/gregorywagner/.julia/packages/Cassette/xggAf/src/overdub.jl:521.\n",
      "WARNING: Method definition overdub(Cassette.Context{N, M, T, P, B, H} where H<:Union{Cassette.DisableHooks, Nothing} where B<:Union{Nothing, Base.IdDict{Module, Base.Dict{Symbol, Cassette.BindingMeta}}} where P<:Cassette.AbstractPass where T<:Union{Nothing, Cassette.Tag{N, X, E} where E where X where N<:Cassette.AbstractContextName} where M where N<:Cassette.AbstractContextName, Any...) in module Cassette at /Users/gregorywagner/.julia/packages/Cassette/xggAf/src/overdub.jl:508 overwritten in module GPUifyLoops at /Users/gregorywagner/.julia/packages/Cassette/xggAf/src/overdub.jl:508.\n"
     ]
    }
   ],
   "source": [
    "using Pkg; Pkg.activate(\"/Users/gregorywagner/Projects/OceananigansAnalysis\")\n",
    "\n",
    "using OceananigansAnalysis, NetCDF, Glob, PyPlot, JLD2, Printf\n",
    "\n",
    "usecmbright()\n",
    "\n",
    "const noutput = 32;"
   ]
  },
  {
   "cell_type": "code",
   "execution_count": 3,
   "metadata": {},
   "outputs": [
    {
     "name": "stdout",
     "output_type": "stream",
     "text": [
      "filepath = \"./wind_stress_N256_tau0.04_Q-75_dTdz0.01_k0.0001_dt0.25_days6_timeseries.jld2\"\n"
     ]
    }
   ],
   "source": [
    "dir = \".\"\n",
    "simname = \"wind_stress\"\n",
    "\n",
    "name = name_without_num(basename(glob(simname * \"*.nc\", dir)[end]))\n",
    "\n",
    "filepath = joinpath(\".\", name * \"_timeseries.jld2\")\n",
    "\n",
    "@show filepath\n",
    "\n",
    "isfile(filepath) && rm(filepath)\n",
    "\n",
    "create_timeseries(filepath, simname=simname, noutput=noutput)"
   ]
  }
 ],
 "metadata": {
  "kernelspec": {
   "display_name": "Julia 1.1.0",
   "language": "julia",
   "name": "julia-1.1"
  },
  "language_info": {
   "file_extension": ".jl",
   "mimetype": "application/julia",
   "name": "julia",
   "version": "1.1.0"
  }
 },
 "nbformat": 4,
 "nbformat_minor": 2
}
