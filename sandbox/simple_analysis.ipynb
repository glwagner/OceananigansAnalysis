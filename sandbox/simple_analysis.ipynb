{
 "cells": [
  {
   "cell_type": "code",
   "execution_count": 1,
   "metadata": {},
   "outputs": [
    {
     "name": "stderr",
     "output_type": "stream",
     "text": [
      "┌ Info: Recompiling stale cache file /Users/gregorywagner/.julia/compiled/v1.1/OceananigansAnalysis/lRkHr.ji for OceananigansAnalysis [48a51284-6256-11e9-2134-43d8d96d7f17]\n",
      "└ @ Base loading.jl:1184\n",
      "WARNING: Method definition recurse(Cassette.Context{N, M, T, P, B, H} where H<:Union{Cassette.DisableHooks, Nothing} where B<:Union{Nothing, Base.IdDict{Module, Base.Dict{Symbol, Cassette.BindingMeta}}} where P<:Cassette.AbstractPass where T<:Union{Nothing, Cassette.Tag{N, X, E} where E where X where N<:Cassette.AbstractContextName} where M where N<:Cassette.AbstractContextName, Any...) in module Cassette at /Users/gregorywagner/.julia/packages/Cassette/xggAf/src/overdub.jl:521 overwritten in module GPUifyLoops at /Users/gregorywagner/.julia/packages/Cassette/xggAf/src/overdub.jl:521.\n",
      "WARNING: Method definition overdub(Cassette.Context{N, M, T, P, B, H} where H<:Union{Cassette.DisableHooks, Nothing} where B<:Union{Nothing, Base.IdDict{Module, Base.Dict{Symbol, Cassette.BindingMeta}}} where P<:Cassette.AbstractPass where T<:Union{Nothing, Cassette.Tag{N, X, E} where E where X where N<:Cassette.AbstractContextName} where M where N<:Cassette.AbstractContextName, Any...) in module Cassette at /Users/gregorywagner/.julia/packages/Cassette/xggAf/src/overdub.jl:508 overwritten in module GPUifyLoops at /Users/gregorywagner/.julia/packages/Cassette/xggAf/src/overdub.jl:508.\n"
     ]
    }
   ],
   "source": [
    "using Pkg; Pkg.activate(\"/Users/gregorywagner/Projects/OceananigansAnalysis\")\n",
    "\n",
    "using OceananigansAnalysis, NetCDF, Glob, PyPlot, JLD2, Printf\n",
    "\n",
    "usecmbright()\n",
    "\n",
    "const noutput = 32;"
   ]
  },
  {
   "cell_type": "code",
   "execution_count": 2,
   "metadata": {},
   "outputs": [
    {
     "name": "stdout",
     "output_type": "stream",
     "text": [
      "example_filepath = \"./wind_stress_N256_tau0.04_Q-75_dTdz0.01_k0.0001_dt0.25_days6_9.nc\"\n",
      "simtime(example_filepath, noutput) = 145800.0\n",
      "simiter(example_filepath, noutput) = 583200\n"
     ]
    },
    {
     "data": {
      "text/plain": [
       "Dict{String,Any} with 8 entries:\n",
       "  \"Q\"    => -75.0\n",
       "  \"dTdz\" => 0.01\n",
       "  \"N\"    => 256.0\n",
       "  \"k\"    => 0.0001\n",
       "  \"days\" => 6.0\n",
       "  \"num\"  => 9\n",
       "  \"dt\"   => 0.25\n",
       "  \"tau\"  => 0.04"
      ]
     },
     "execution_count": 2,
     "metadata": {},
     "output_type": "execute_result"
    }
   ],
   "source": [
    "simname = \"wind_stress\"\n",
    "varnames = [\"N\", \"tau\", \"Q\", \"dTdz\", \"k\", \"dt\", \"days\"]\n",
    "\n",
    "example_filepath = glob(simname * \"*.nc\", \".\")[end]\n",
    "\n",
    "@show example_filepath\n",
    "@show simtime(example_filepath, noutput) simiter(example_filepath, noutput)\n",
    "vars = parse_filename(example_filepath, varnames)"
   ]
  }
 ],
 "metadata": {
  "kernelspec": {
   "display_name": "Julia 1.1.0",
   "language": "julia",
   "name": "julia-1.1"
  },
  "language_info": {
   "file_extension": ".jl",
   "mimetype": "application/julia",
   "name": "julia",
   "version": "1.1.0"
  }
 },
 "nbformat": 4,
 "nbformat_minor": 2
}
